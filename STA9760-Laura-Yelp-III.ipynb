{
 "cells": [
  {
   "cell_type": "code",
   "execution_count": 1,
   "metadata": {},
   "outputs": [
    {
     "data": {
      "text/html": [
       "Current session configs: <tt>{'conf': {'spark.pyspark.python': 'python3', 'spark.pyspark.virtualenv.enabled': 'true', 'spark.pyspark.virtualenv.type': 'native', 'spark.pyspark.virtualenv.bin.path': '/usr/bin/virtualenv'}, 'kind': 'pyspark'}</tt><br>"
      ],
      "text/plain": [
       "<IPython.core.display.HTML object>"
      ]
     },
     "metadata": {},
     "output_type": "display_data"
    },
    {
     "data": {
      "text/html": [
       "<table>\n",
       "<tr><th>ID</th><th>YARN Application ID</th><th>Kind</th><th>State</th><th>Spark UI</th><th>Driver log</th><th>Current session?</th></tr><tr><td>0</td><td>application_1588603162430_0001</td><td>pyspark</td><td>idle</td><td><a target=\"_blank\" href=\"http://ip-172-31-47-111.us-east-2.compute.internal:20888/proxy/application_1588603162430_0001/\">Link</a></td><td><a target=\"_blank\" href=\"http://ip-172-31-42-109.us-east-2.compute.internal:8042/node/containerlogs/container_1588603162430_0001_01_000001/livy\">Link</a></td><td></td></tr></table>"
      ],
      "text/plain": [
       "<IPython.core.display.HTML object>"
      ]
     },
     "metadata": {},
     "output_type": "display_data"
    }
   ],
   "source": [
    "%info"
   ]
  },
  {
   "cell_type": "code",
   "execution_count": 3,
   "metadata": {},
   "outputs": [
    {
     "data": {
      "application/vnd.jupyter.widget-view+json": {
       "model_id": "4f02cd45f763458eb3b94a26674ae6ac",
       "version_major": 2,
       "version_minor": 0
      },
      "text/plain": [
       "VBox()"
      ]
     },
     "metadata": {},
     "output_type": "display_data"
    },
    {
     "data": {
      "application/vnd.jupyter.widget-view+json": {
       "model_id": "",
       "version_major": 2,
       "version_minor": 0
      },
      "text/plain": [
       "FloatProgress(value=0.0, bar_style='info', description='Progress:', layout=Layout(height='25px', width='50%'),…"
      ]
     },
     "metadata": {},
     "output_type": "display_data"
    },
    {
     "name": "stdout",
     "output_type": "stream",
     "text": [
      "Collecting pandas==1.0.3\n",
      "  Using cached pandas-1.0.3-cp36-cp36m-manylinux1_x86_64.whl (10.0 MB)\n",
      "Collecting python-dateutil>=2.6.1\n",
      "  Using cached python_dateutil-2.8.1-py2.py3-none-any.whl (227 kB)\n",
      "Requirement already satisfied: numpy>=1.13.3 in /usr/local/lib64/python3.6/site-packages (from pandas==1.0.3) (1.14.5)\n",
      "Requirement already satisfied: pytz>=2017.2 in /usr/local/lib/python3.6/site-packages (from pandas==1.0.3) (2019.3)\n",
      "Requirement already satisfied: six>=1.5 in /usr/local/lib/python3.6/site-packages (from python-dateutil>=2.6.1->pandas==1.0.3) (1.13.0)\n",
      "Installing collected packages: python-dateutil, pandas\n",
      "Successfully installed pandas-1.0.3 python-dateutil-2.8.1"
     ]
    }
   ],
   "source": [
    "sc.install_pypi_package(\"pandas==1.0.3\")"
   ]
  },
  {
   "cell_type": "code",
   "execution_count": 4,
   "metadata": {},
   "outputs": [
    {
     "data": {
      "application/vnd.jupyter.widget-view+json": {
       "model_id": "cdfccb83391e423888b230f2a698ef24",
       "version_major": 2,
       "version_minor": 0
      },
      "text/plain": [
       "VBox()"
      ]
     },
     "metadata": {},
     "output_type": "display_data"
    },
    {
     "data": {
      "application/vnd.jupyter.widget-view+json": {
       "model_id": "",
       "version_major": 2,
       "version_minor": 0
      },
      "text/plain": [
       "FloatProgress(value=0.0, bar_style='info', description='Progress:', layout=Layout(height='25px', width='50%'),…"
      ]
     },
     "metadata": {},
     "output_type": "display_data"
    },
    {
     "name": "stdout",
     "output_type": "stream",
     "text": [
      "Collecting matplotlib==3.2.1\n",
      "  Using cached matplotlib-3.2.1-cp36-cp36m-manylinux1_x86_64.whl (12.4 MB)\n",
      "Collecting pyparsing!=2.0.4,!=2.1.2,!=2.1.6,>=2.0.1\n",
      "  Using cached pyparsing-2.4.7-py2.py3-none-any.whl (67 kB)\n",
      "Requirement already satisfied: numpy>=1.11 in /usr/local/lib64/python3.6/site-packages (from matplotlib==3.2.1) (1.14.5)\n",
      "Requirement already satisfied: python-dateutil>=2.1 in /mnt/tmp/1588603700222-0/lib/python3.6/site-packages (from matplotlib==3.2.1) (2.8.1)\n",
      "Collecting kiwisolver>=1.0.1\n",
      "  Using cached kiwisolver-1.2.0-cp36-cp36m-manylinux1_x86_64.whl (88 kB)\n",
      "Collecting cycler>=0.10\n",
      "  Using cached cycler-0.10.0-py2.py3-none-any.whl (6.5 kB)\n",
      "Requirement already satisfied: six>=1.5 in /usr/local/lib/python3.6/site-packages (from python-dateutil>=2.1->matplotlib==3.2.1) (1.13.0)\n",
      "Installing collected packages: pyparsing, kiwisolver, cycler, matplotlib\n",
      "Successfully installed cycler-0.10.0 kiwisolver-1.2.0 matplotlib-3.2.1 pyparsing-2.4.7"
     ]
    }
   ],
   "source": [
    "sc.install_pypi_package(\"matplotlib==3.2.1\")"
   ]
  },
  {
   "cell_type": "code",
   "execution_count": 6,
   "metadata": {},
   "outputs": [
    {
     "data": {
      "application/vnd.jupyter.widget-view+json": {
       "model_id": "c782b7cd255d4137a9740e0c239508e9",
       "version_major": 2,
       "version_minor": 0
      },
      "text/plain": [
       "VBox()"
      ]
     },
     "metadata": {},
     "output_type": "display_data"
    },
    {
     "data": {
      "application/vnd.jupyter.widget-view+json": {
       "model_id": "",
       "version_major": 2,
       "version_minor": 0
      },
      "text/plain": [
       "FloatProgress(value=0.0, bar_style='info', description='Progress:', layout=Layout(height='25px', width='50%'),…"
      ]
     },
     "metadata": {},
     "output_type": "display_data"
    }
   ],
   "source": [
    "user=spark.read.json('s3://sta9760-laura-spark-datasets/yelp-dataset/yelp_academic_dataset_business.json')"
   ]
  },
  {
   "cell_type": "code",
   "execution_count": 7,
   "metadata": {},
   "outputs": [
    {
     "data": {
      "application/vnd.jupyter.widget-view+json": {
       "model_id": "c53d2c63b23e4696b478d18028895ea3",
       "version_major": 2,
       "version_minor": 0
      },
      "text/plain": [
       "VBox()"
      ]
     },
     "metadata": {},
     "output_type": "display_data"
    },
    {
     "data": {
      "application/vnd.jupyter.widget-view+json": {
       "model_id": "",
       "version_major": 2,
       "version_minor": 0
      },
      "text/plain": [
       "FloatProgress(value=0.0, bar_style='info', description='Progress:', layout=Layout(height='25px', width='50%'),…"
      ]
     },
     "metadata": {},
     "output_type": "display_data"
    },
    {
     "name": "stdout",
     "output_type": "stream",
     "text": [
      "Total Columns: 14\n",
      "Total Rows: 209,393\n",
      "root\n",
      " |-- address: string (nullable = true)\n",
      " |-- attributes: struct (nullable = true)\n",
      " |    |-- AcceptsInsurance: string (nullable = true)\n",
      " |    |-- AgesAllowed: string (nullable = true)\n",
      " |    |-- Alcohol: string (nullable = true)\n",
      " |    |-- Ambience: string (nullable = true)\n",
      " |    |-- BYOB: string (nullable = true)\n",
      " |    |-- BYOBCorkage: string (nullable = true)\n",
      " |    |-- BestNights: string (nullable = true)\n",
      " |    |-- BikeParking: string (nullable = true)\n",
      " |    |-- BusinessAcceptsBitcoin: string (nullable = true)\n",
      " |    |-- BusinessAcceptsCreditCards: string (nullable = true)\n",
      " |    |-- BusinessParking: string (nullable = true)\n",
      " |    |-- ByAppointmentOnly: string (nullable = true)\n",
      " |    |-- Caters: string (nullable = true)\n",
      " |    |-- CoatCheck: string (nullable = true)\n",
      " |    |-- Corkage: string (nullable = true)\n",
      " |    |-- DietaryRestrictions: string (nullable = true)\n",
      " |    |-- DogsAllowed: string (nullable = true)\n",
      " |    |-- DriveThru: string (nullable = true)\n",
      " |    |-- GoodForDancing: string (nullable = true)\n",
      " |    |-- GoodForKids: string (nullable = true)\n",
      " |    |-- GoodForMeal: string (nullable = true)\n",
      " |    |-- HairSpecializesIn: string (nullable = true)\n",
      " |    |-- HappyHour: string (nullable = true)\n",
      " |    |-- HasTV: string (nullable = true)\n",
      " |    |-- Music: string (nullable = true)\n",
      " |    |-- NoiseLevel: string (nullable = true)\n",
      " |    |-- Open24Hours: string (nullable = true)\n",
      " |    |-- OutdoorSeating: string (nullable = true)\n",
      " |    |-- RestaurantsAttire: string (nullable = true)\n",
      " |    |-- RestaurantsCounterService: string (nullable = true)\n",
      " |    |-- RestaurantsDelivery: string (nullable = true)\n",
      " |    |-- RestaurantsGoodForGroups: string (nullable = true)\n",
      " |    |-- RestaurantsPriceRange2: string (nullable = true)\n",
      " |    |-- RestaurantsReservations: string (nullable = true)\n",
      " |    |-- RestaurantsTableService: string (nullable = true)\n",
      " |    |-- RestaurantsTakeOut: string (nullable = true)\n",
      " |    |-- Smoking: string (nullable = true)\n",
      " |    |-- WheelchairAccessible: string (nullable = true)\n",
      " |    |-- WiFi: string (nullable = true)\n",
      " |-- business_id: string (nullable = true)\n",
      " |-- categories: string (nullable = true)\n",
      " |-- city: string (nullable = true)\n",
      " |-- hours: struct (nullable = true)\n",
      " |    |-- Friday: string (nullable = true)\n",
      " |    |-- Monday: string (nullable = true)\n",
      " |    |-- Saturday: string (nullable = true)\n",
      " |    |-- Sunday: string (nullable = true)\n",
      " |    |-- Thursday: string (nullable = true)\n",
      " |    |-- Tuesday: string (nullable = true)\n",
      " |    |-- Wednesday: string (nullable = true)\n",
      " |-- is_open: long (nullable = true)\n",
      " |-- latitude: double (nullable = true)\n",
      " |-- longitude: double (nullable = true)\n",
      " |-- name: string (nullable = true)\n",
      " |-- postal_code: string (nullable = true)\n",
      " |-- review_count: long (nullable = true)\n",
      " |-- stars: double (nullable = true)\n",
      " |-- state: string (nullable = true)"
     ]
    }
   ],
   "source": [
    "print(f'Total Columns: {len(user.dtypes)}')\n",
    "print(f'Total Rows: {user.count():,}')\n",
    "user.printSchema()"
   ]
  },
  {
   "cell_type": "code",
   "execution_count": 22,
   "metadata": {},
   "outputs": [
    {
     "data": {
      "application/vnd.jupyter.widget-view+json": {
       "model_id": "c0b0cb88a32548ba85613cca383a4fc1",
       "version_major": 2,
       "version_minor": 0
      },
      "text/plain": [
       "VBox()"
      ]
     },
     "metadata": {},
     "output_type": "display_data"
    },
    {
     "data": {
      "application/vnd.jupyter.widget-view+json": {
       "model_id": "",
       "version_major": 2,
       "version_minor": 0
      },
      "text/plain": [
       "FloatProgress(value=0.0, bar_style='info', description='Progress:', layout=Layout(height='25px', width='50%'),…"
      ]
     },
     "metadata": {},
     "output_type": "display_data"
    },
    {
     "name": "stdout",
     "output_type": "stream",
     "text": [
      "+--------------------+-----+\n",
      "|         business_id|stars|\n",
      "+--------------------+-----+\n",
      "|f9NumwFMBDn751xgF...|  3.5|\n",
      "|Yzvjg0SayhoZgCljU...|  5.0|\n",
      "|XNoUzKckATkOD1hP6...|  5.0|\n",
      "|6OAZjbxqM5ol29BuH...|  2.5|\n",
      "|51M2Kk903DFYI6gnB...|  4.5|\n",
      "+--------------------+-----+\n",
      "only showing top 5 rows"
     ]
    }
   ],
   "source": [
    "from pyspark.sql.types import DecimalType\n",
    "from pyspark.sql.functions import col\n",
    "#user.select('business_id','stars').withColumn('stars', col(\"stars\").cast(DecimalType(25,16))).show(5)\n",
    "user.select('business_id','stars').show(5)"
   ]
  },
  {
   "cell_type": "code",
   "execution_count": 48,
   "metadata": {},
   "outputs": [
    {
     "data": {
      "application/vnd.jupyter.widget-view+json": {
       "model_id": "6e74d490fb6d48f9ac78bfd82b8925dd",
       "version_major": 2,
       "version_minor": 0
      },
      "text/plain": [
       "VBox()"
      ]
     },
     "metadata": {},
     "output_type": "display_data"
    },
    {
     "data": {
      "application/vnd.jupyter.widget-view+json": {
       "model_id": "",
       "version_major": 2,
       "version_minor": 0
      },
      "text/plain": [
       "FloatProgress(value=0.0, bar_style='info', description='Progress:', layout=Layout(height='25px', width='50%'),…"
      ]
     },
     "metadata": {},
     "output_type": "display_data"
    },
    {
     "name": "stdout",
     "output_type": "stream",
     "text": [
      "+--------------------+----------+\n",
      "|         business_id|avg(stars)|\n",
      "+--------------------+----------+\n",
      "|M_guz7Dj7hX0evS67...|       3.5|\n",
      "|oqbNgOBAxsa49c2WQ...|       3.5|\n",
      "|2BKKUjLSocdlgfsMC...|       5.0|\n",
      "|DloBjCZHlz0lzsrQJ...|       4.0|\n",
      "|lj0MiK5_fyv9df2tw...|       4.5|\n",
      "+--------------------+----------+\n",
      "only showing top 5 rows"
     ]
    }
   ],
   "source": [
    "user_avg=user.groupby('business_id').agg({'stars':'mean'})\n",
    "#user_avg=user.groupby('business_id').avg('stars')\n",
    "user_avg.show(5)"
   ]
  },
  {
   "cell_type": "code",
   "execution_count": 24,
   "metadata": {},
   "outputs": [
    {
     "data": {
      "application/vnd.jupyter.widget-view+json": {
       "model_id": "5ba3cbfd065a4711b5a6978507990ee6",
       "version_major": 2,
       "version_minor": 0
      },
      "text/plain": [
       "VBox()"
      ]
     },
     "metadata": {},
     "output_type": "display_data"
    },
    {
     "data": {
      "application/vnd.jupyter.widget-view+json": {
       "model_id": "",
       "version_major": 2,
       "version_minor": 0
      },
      "text/plain": [
       "FloatProgress(value=0.0, bar_style='info', description='Progress:', layout=Layout(height='25px', width='50%'),…"
      ]
     },
     "metadata": {},
     "output_type": "display_data"
    }
   ],
   "source": [
    "business = spark.read.json('s3://sta9760-laura-spark-datasets/yelp-dataset/yelp_academic_dataset_business.json')"
   ]
  },
  {
   "cell_type": "code",
   "execution_count": 43,
   "metadata": {},
   "outputs": [
    {
     "data": {
      "application/vnd.jupyter.widget-view+json": {
       "model_id": "d989ba9eb4a9412e83a8c5f13c58cc53",
       "version_major": 2,
       "version_minor": 0
      },
      "text/plain": [
       "VBox()"
      ]
     },
     "metadata": {},
     "output_type": "display_data"
    },
    {
     "data": {
      "application/vnd.jupyter.widget-view+json": {
       "model_id": "",
       "version_major": 2,
       "version_minor": 0
      },
      "text/plain": [
       "FloatProgress(value=0.0, bar_style='info', description='Progress:', layout=Layout(height='25px', width='50%'),…"
      ]
     },
     "metadata": {},
     "output_type": "display_data"
    },
    {
     "name": "stdout",
     "output_type": "stream",
     "text": [
      "+--------------------+-----+---------------+-----+\n",
      "|         business_id|stars|           city|state|\n",
      "+--------------------+-----+---------------+-----+\n",
      "|f9NumwFMBDn751xgF...|  3.5|      Cornelius|   NC|\n",
      "|Yzvjg0SayhoZgCljU...|  5.0|     Scottsdale|   AZ|\n",
      "|XNoUzKckATkOD1hP6...|  5.0|       Montreal|   QC|\n",
      "|6OAZjbxqM5ol29BuH...|  2.5|North Las Vegas|   NV|\n",
      "|51M2Kk903DFYI6gnB...|  4.5|           Mesa|   AZ|\n",
      "+--------------------+-----+---------------+-----+\n",
      "only showing top 5 rows"
     ]
    }
   ],
   "source": [
    "user_business = user.select('business_id','stars').join(business.select('business_id','city','state'), on=\"business_id\", how=\"inner\")\n",
    "#select(\"user.stars\",\"business.name\",\"business.city\",\"business.state\")\n",
    "user_business.show(5)"
   ]
  },
  {
   "cell_type": "code",
   "execution_count": 49,
   "metadata": {},
   "outputs": [
    {
     "data": {
      "application/vnd.jupyter.widget-view+json": {
       "model_id": "20f5f010b27d498fba4c710794bf22b9",
       "version_major": 2,
       "version_minor": 0
      },
      "text/plain": [
       "VBox()"
      ]
     },
     "metadata": {},
     "output_type": "display_data"
    },
    {
     "data": {
      "application/vnd.jupyter.widget-view+json": {
       "model_id": "",
       "version_major": 2,
       "version_minor": 0
      },
      "text/plain": [
       "FloatProgress(value=0.0, bar_style='info', description='Progress:', layout=Layout(height='25px', width='50%'),…"
      ]
     },
     "metadata": {},
     "output_type": "display_data"
    },
    {
     "name": "stdout",
     "output_type": "stream",
     "text": [
      "+--------------------+-----+---------------+-----+----------+\n",
      "|         business_id|stars|           city|state|avg(stars)|\n",
      "+--------------------+-----+---------------+-----+----------+\n",
      "|f9NumwFMBDn751xgF...|  3.5|      Cornelius|   NC|       3.5|\n",
      "|Yzvjg0SayhoZgCljU...|  5.0|     Scottsdale|   AZ|       5.0|\n",
      "|XNoUzKckATkOD1hP6...|  5.0|       Montreal|   QC|       5.0|\n",
      "|6OAZjbxqM5ol29BuH...|  2.5|North Las Vegas|   NV|       2.5|\n",
      "|51M2Kk903DFYI6gnB...|  4.5|           Mesa|   AZ|       4.5|\n",
      "|cKyLV5oWZJ2NudWgq...|  4.5|        Gilbert|   AZ|       4.5|\n",
      "|oiAlXZPIFm2nBCt0D...|  3.5|      Las Vegas|   NV|       3.5|\n",
      "|ScYkbYNkDgCneBrD9...|  5.0|           Mesa|   AZ|       5.0|\n",
      "|pQeaRpvuhoEqudo3u...|  4.5|      Champaign|   IL|       4.5|\n",
      "|EosRKXIGeSWFYWwpk...|  3.0|        Toronto|   ON|       3.0|\n",
      "|MbZMmwo-eL0Jnm_Yb...|  5.0|        Calgary|   AB|       5.0|\n",
      "|7Dv4_HAxsxvadEsT5...|  5.0|     Pittsburgh|   PA|       5.0|\n",
      "|M_guz7Dj7hX0evS67...|  3.5|      Middleton|   WI|       3.5|\n",
      "|JjJs3o60uQCfctDjs...|  2.5|       Chandler|   AZ|       2.5|\n",
      "|kOICO53wbOiOJcKuC...|  3.5|North Las Vegas|   NV|       3.5|\n",
      "|rqcOZePlVvJP9Etzl...|  5.0|      Henderson|   NV|       5.0|\n",
      "|uZuh51lXu7tsrC8RA...|  4.5|      Las Vegas|   NV|       4.5|\n",
      "|nIEhsGbw0vJuYl05b...|  4.5|          Tempe|   AZ|       4.5|\n",
      "|edQoeeBFUTYGwnUSE...|  4.5|      Rock Hill|   SC|       4.5|\n",
      "|Vwo64kNYDjKi98gUU...|  4.5|           Mesa|   AZ|       4.5|\n",
      "|CsLQLiRoafpJPJSkN...|  3.0|      Charlotte|   NC|       3.0|\n",
      "|x3Po6tJGb729u_HJP...|  2.5|       Glendale|   AZ|       2.5|\n",
      "|idgGrA8gt699JDUPK...|  4.0|   Huntersville|   NC|       4.0|\n",
      "|mKTq1T_IAplDpHUcM...|  3.5|       Gastonia|   NC|       3.5|\n",
      "|eBEfgOPG7pvFhb2wc...|  4.5|         Aurora|   ON|       4.5|\n",
      "|lu7vtrp_bE9PnxWfA...|  4.5|      Thornhill|   ON|       4.5|\n",
      "|1wWneWD_E1pBIyVpd...|  4.0|        Toronto|   ON|       4.0|\n",
      "|0pOlmHVeidsh63iAW...|  2.5|      Charlotte|   NC|       2.5|\n",
      "|07cgbTbANYhVDfzTM...|  4.5|        Phoenix|   AZ|       4.5|\n",
      "|007Dg4ESDVacWcC4V...|  4.0|        Toronto|   ON|       4.0|\n",
      "|9sRGfSVEfLhN_km60...|  3.0|  Richmond Hill|   ON|       3.0|\n",
      "|pcaQDBM6r0PWTXfYZ...|  3.0|        Lasalle|   QC|       3.0|\n",
      "|DCsS3SgVFO56F6wRO...|  2.5|           Mesa|   AZ|       2.5|\n",
      "|vjTVxnsQEZ34XjYNS...|  4.0|        Phoenix|   AZ|       4.0|\n",
      "|03x6ZlJ7s39DHqfTJ...|  4.5|      Beachwood|   OH|       4.5|\n",
      "|UqBTL1dq9QcOISikg...|  5.0|       Surprise|   AZ|       5.0|\n",
      "|fnZrZlqW1Z8iWgTVD...|  2.5|      Las Vegas|   NV|       2.5|\n",
      "|kHCTmEekJJwYsJEy7...|  3.0|        Phoenix|   AZ|       3.0|\n",
      "|rVBPQdeayMYht4Uv_...|  3.0|        Toronto|   ON|       3.0|\n",
      "|_4Oe9V-qTpU5iemM9...|  3.5|     Pittsburgh|   PA|       3.5|\n",
      "|PslhllUwcQFavRHp-...|  3.5|        Concord|   NC|       3.5|\n",
      "|98hyK2QEUeI8v2y0A...|  4.5|      Cleveland|   OH|       4.5|\n",
      "|fhNf_sg-XzZ3e7HEV...|  3.0|      Las Vegas|   NV|       3.0|\n",
      "|LoRef3ChgZKbxUio-...|  3.0|       Montréal|   QC|       3.0|\n",
      "|Ga2Bt7xfqoggTypWD...|  4.0|          Tempe|   AZ|       4.0|\n",
      "|_xOeoXfPUQTNlUAhX...|  3.5|       Montréal|   QC|       3.5|\n",
      "|xFc50drSPxXkcLvX5...|  3.5|       Glendale|   AZ|       3.5|\n",
      "|oPfzMA_kA9NQwG-h-...|  3.5|        Concord|   ON|       3.5|\n",
      "|jutfk7U4GV899q6qf...|  5.0|         Anthem|   AZ|       5.0|\n",
      "|tLpkSwdtqqoXwU0JA...|  3.5|      Cleveland|   OH|       3.5|\n",
      "+--------------------+-----+---------------+-----+----------+\n",
      "only showing top 50 rows"
     ]
    }
   ],
   "source": [
    "user_business_star = user_business.join(user_avg, on=\"business_id\", how=\"inner\")\n",
    "user_business_star.show(50)"
   ]
  }
 ],
 "metadata": {
  "kernelspec": {
   "display_name": "PySpark",
   "language": "",
   "name": "pysparkkernel"
  },
  "language_info": {
   "codemirror_mode": {
    "name": "python",
    "version": 2
   },
   "mimetype": "text/x-python",
   "name": "pyspark",
   "pygments_lexer": "python2"
  }
 },
 "nbformat": 4,
 "nbformat_minor": 4
}
